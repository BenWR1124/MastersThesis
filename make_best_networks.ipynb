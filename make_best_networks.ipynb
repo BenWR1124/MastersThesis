{
  "nbformat": 4,
  "nbformat_minor": 0,
  "metadata": {
    "colab": {
      "name": "make_best_networks.ipynb",
      "provenance": []
    },
    "kernelspec": {
      "name": "python3",
      "display_name": "Python 3"
    },
    "language_info": {
      "name": "python"
    },
    "accelerator": "GPU"
  },
  "cells": [
    {
      "cell_type": "code",
      "execution_count": null,
      "metadata": {
        "colab": {
          "base_uri": "https://localhost:8080/"
        },
        "id": "uipzqdH_F1-Z",
        "outputId": "98d34e33-ba91-475f-f185-6858fca1907a"
      },
      "outputs": [
        {
          "output_type": "stream",
          "name": "stdout",
          "text": [
            "Found GPU at: /device:GPU:0\n"
          ]
        }
      ],
      "source": [
        "%tensorflow_version 2.x\n",
        "import tensorflow as tf\n",
        "device_name = tf.test.gpu_device_name()\n",
        "if device_name != '/device:GPU:0':\n",
        "  raise SystemError('GPU device not found')\n",
        "print('Found GPU at: {}'.format(device_name))"
      ]
    },
    {
      "cell_type": "code",
      "source": [
        "import numpy as np\n",
        "import scipy.io as sio\n",
        "import time\n",
        "from matplotlib import pyplot as plt\n",
        "from sklearn.model_selection import train_test_split\n",
        "from keras.models import Sequential, Model, load_model\n",
        "from keras.callbacks import EarlyStopping, ModelCheckpoint\n",
        "from keras.layers import Dense, Input, InputLayer, Flatten, Conv2D,MaxPooling2D,Conv2DTranspose,LeakyReLU\n",
        "import seaborn as sn\n",
        "from keras.utils.vis_utils import plot_model\n",
        "import math\n",
        "import pandas as pd\n",
        "import matplotlib.gridspec as gridspec\n",
        "import csv\n",
        "from scipy.io import loadmat"
      ],
      "metadata": {
        "id": "6zRnRIE2GDhT"
      },
      "execution_count": null,
      "outputs": []
    },
    {
      "cell_type": "code",
      "source": [
        "from google.colab import auth\n",
        "auth.authenticate_user()"
      ],
      "metadata": {
        "id": "E4_gslvwGJvi"
      },
      "execution_count": null,
      "outputs": []
    },
    {
      "cell_type": "code",
      "source": [
        "def mean2(x):\n",
        "    y = np.sum(x) / np.size(x);\n",
        "    return y\n",
        "\n",
        "def corr2(a,b):\n",
        "    a = a - mean2(a)\n",
        "    b = b - mean2(b)\n",
        "\n",
        "    r = (a*b).sum() / math.sqrt((a*a).sum() * (b*b).sum());\n",
        "    return r"
      ],
      "metadata": {
        "id": "qdCLIkwlGKpb"
      },
      "execution_count": null,
      "outputs": []
    },
    {
      "cell_type": "code",
      "source": [
        "#Xtest_digits=np.transpose(sio.loadmat('Xtest_digits_mnist.mat')['Xtest_digits'].squeeze()).reshape([10000,28*28],order='F') \n",
        "Xtrain_digits=np.transpose(sio.loadmat('/content/drive/My Drive/Colab Notebooks/Xtrain_digits_mnist.mat')['Xtrain_digits'].squeeze()).reshape([60000,28*28],order='F')\n",
        "#outputTest_digits=np.transpose(sio.loadmat('outputTest_digits_mnist.mat')['outputTest_digits'].squeeze()).reshape([10000,28*28],order='F')\n",
        "outputTrain_digits=np.transpose(sio.loadmat('/content/drive/My Drive/Colab Notebooks/outputTrain_digits_mnist.mat')['outputTrain_digits'].squeeze()).reshape([60000,28*28],order='F')\n",
        "#n_low_vec_test=sio.loadmat('n_low_vec_test.mat')['n_low_vec_test']\n",
        "n_low_vec=sio.loadmat('/content/drive/My Drive/Colab Notebooks/n_low_vec_train.mat')['n_low_vec']\n",
        "y_train_labels=sio.loadmat('/content/drive/My Drive/Colab Notebooks/mnist_train_labels.mat')['YTrain'] \n",
        "\n",
        "\n",
        "n = 7 # an odd number of digits to show in the figure\n",
        "n_vals=[round(np.random.uniform()*100) for _ in range(n)]"
      ],
      "metadata": {
        "id": "BCy2F5bIGV_4"
      },
      "execution_count": null,
      "outputs": []
    },
    {
      "cell_type": "code",
      "source": [
        "train_inds_all=np.array([round(i) for i in np.linspace(0,59999,60000)])#to become indices of train/val later\n",
        "X_train, X_val, output_digits_train, output_digits_val, train_inds_train, train_inds_val= train_test_split(Xtrain_digits, \n",
        "                                                    outputTrain_digits,train_inds_all,\n",
        "                                                    stratify=y_train_labels, \n",
        "                                                    test_size=0.1666666, random_state=42)\n",
        "\n",
        "X_train_train, X_train_val, output_digits_train_train, output_digits_train_val=train_test_split(X_train,output_digits_train,\n",
        "                                                              stratify=y_train_labels[train_inds_train],\n",
        "                                                              test_size=0.2, random_state=10)\n",
        "\n",
        "# Train the Autoencoder\n",
        "coding_size=60\n",
        "filter_size=11\n",
        "kernel_size=101\n",
        "pool_size=2\n",
        "convpad='same'\n",
        "poolpad='same'\n",
        "\n",
        "def build_conv_autoencoder(filter_size, kernel_size, pool_size, coding_size,convpad,poolpad):\n",
        "    # # The encoder\n",
        "    encoder = Sequential(name=\"Encoder\")\n",
        "    # encoder.add(InputLayer((784,)))\n",
        "    encoder.add(Conv2D(filter_size, kernel_size, activation=LeakyReLU(), padding=convpad))\n",
        "    encoder.add(MaxPooling2D(pool_size, padding=poolpad))\n",
        "    encoder.add(Conv2D(filter_size, kernel_size, activation=LeakyReLU(), padding=convpad))\n",
        "    encoder.add(MaxPooling2D(pool_size, padding=poolpad))\n",
        "    # encoder.add(Dense(dense_size,activation='relu'))\n",
        "    encoder.add(Dense(coding_size,activation=LeakyReLU()))\n",
        "\n",
        "    # # The decoder\n",
        "    decoder = Sequential(name=\"Decoder\")\n",
        "    # decoder.add(InputLayer((coding_size,)))#\n",
        "    decoder.add(Conv2DTranspose(filter_size, kernel_size, strides=2, activation=LeakyReLU(), padding=convpad))\n",
        "    decoder.add(Conv2DTranspose(filter_size, kernel_size, strides=2, activation=LeakyReLU(), padding=convpad))\n",
        "    decoder.add(Conv2D(1, (1,1), activation=LeakyReLU(), padding='same'))\n",
        "\n",
        "    return encoder, decoder    \n",
        "\n",
        "\n",
        "\n",
        "encoder_rc, decoder_rc = build_conv_autoencoder(filter_size, kernel_size, pool_size, coding_size,convpad,poolpad)\n",
        "\n",
        "inpt=Input(shape=(28,28,1))\n",
        "code_rc = encoder_rc(inpt)\n",
        "reconstruction_rc = decoder_rc(code_rc)\n",
        "autoencoder_rc=Model(inpt,reconstruction_rc)\n",
        "autoencoder_rc.compile(optimizer='adam', loss='mse')\n",
        "print(autoencoder_rc.summary())\n",
        "plot_model(autoencoder_rc, show_shapes=True, to_file='conv_autoencoder_RC.png',expand_nested=True)\n",
        "\n",
        "\n",
        "filepath=\"best_model_convTrained_on_RC.hdf5\"\n",
        "mc = ModelCheckpoint(filepath, monitor='val_loss', mode='min', save_best_only=True)\n",
        "es = EarlyStopping(monitor='val_loss',verbose=0,min_delta=0.01,patience=5)\n",
        "callbacks=[es, mc]\n",
        "\n",
        "train_new=1\n",
        "if train_new==1:\n",
        "    classify_model_trained_rc=autoencoder_rc.fit(X_train_train.reshape([len(X_train_train),28,28,1]),output_digits_train_train.reshape([len(X_train_train),28,28,1]),\n",
        "                                                 validation_data=(X_train_val.reshape([len(X_train_val),28,28,1]), \n",
        "                                                 output_digits_train_val.reshape([len(X_train_val),28,28,1])),\n",
        "                                                 epochs=70,verbose=2,callbacks=callbacks)\n",
        "    \n",
        "    best_epoch=np.argmin(classify_model_trained_rc.history['val_loss'])+1\n",
        "    epochs = len(classify_model_trained_rc.history['loss'])\n",
        "    \n",
        "    makeTrainingPlot=1\n",
        "    if makeTrainingPlot==1: #Make a plot of training progress\n",
        "        plt.plot(range(epochs),classify_model_trained_rc.history['loss'], label='train')\n",
        "        plt.plot(range(epochs),classify_model_trained_rc.history['val_loss'],label='validation')\n",
        "        plt.xlabel('Epochs')\n",
        "        plt.ylabel(\"Categorical Crossentropy\")\n",
        "        plt.title('Model Performance')\n",
        "        plt.legend()\n",
        "        plt.show()\n",
        "    autoencoder_rc.load_weights(mc.filepath)\n",
        "else:\n",
        "    autoencoder_rc.load_weights(mc.filepath)\n"
      ],
      "metadata": {
        "colab": {
          "base_uri": "https://localhost:8080/",
          "height": 1000
        },
        "id": "EfGMTI50GWlc",
        "outputId": "f0e476fe-8ebb-4189-8296-a14d35955d44"
      },
      "execution_count": null,
      "outputs": [
        {
          "output_type": "stream",
          "name": "stdout",
          "text": [
            "Model: \"model\"\n",
            "_________________________________________________________________\n",
            " Layer (type)                Output Shape              Param #   \n",
            "=================================================================\n",
            " input_1 (InputLayer)        [(None, 28, 28, 1)]       0         \n",
            "                                                                 \n",
            " Encoder (Sequential)        (None, 7, 7, 60)          1347274   \n",
            "                                                                 \n",
            " Decoder (Sequential)        (None, 28, 28, 1)         7967015   \n",
            "                                                                 \n",
            "=================================================================\n",
            "Total params: 9,314,289\n",
            "Trainable params: 9,314,289\n",
            "Non-trainable params: 0\n",
            "_________________________________________________________________\n",
            "None\n",
            "Epoch 1/70\n",
            "1250/1250 - 165s - loss: 1.0690 - val_loss: 0.6367 - 165s/epoch - 132ms/step\n",
            "Epoch 2/70\n",
            "1250/1250 - 157s - loss: 0.5826 - val_loss: 0.5509 - 157s/epoch - 125ms/step\n",
            "Epoch 3/70\n",
            "1250/1250 - 157s - loss: 0.5190 - val_loss: 0.5154 - 157s/epoch - 125ms/step\n",
            "Epoch 4/70\n",
            "1250/1250 - 156s - loss: 0.4880 - val_loss: 0.4998 - 156s/epoch - 125ms/step\n",
            "Epoch 5/70\n",
            "1250/1250 - 156s - loss: 0.4677 - val_loss: 0.4909 - 156s/epoch - 125ms/step\n",
            "Epoch 6/70\n",
            "1250/1250 - 157s - loss: 0.4532 - val_loss: 0.4849 - 157s/epoch - 125ms/step\n",
            "Epoch 7/70\n",
            "1250/1250 - 156s - loss: 0.4415 - val_loss: 0.4796 - 156s/epoch - 125ms/step\n",
            "Epoch 8/70\n",
            "1250/1250 - 157s - loss: 0.4321 - val_loss: 0.4749 - 157s/epoch - 125ms/step\n",
            "Epoch 9/70\n",
            "1250/1250 - 157s - loss: 0.4233 - val_loss: 0.4744 - 157s/epoch - 125ms/step\n",
            "Epoch 10/70\n",
            "1250/1250 - 156s - loss: 0.4163 - val_loss: 0.4744 - 156s/epoch - 125ms/step\n",
            "Epoch 11/70\n",
            "1250/1250 - 157s - loss: 0.4098 - val_loss: 0.4728 - 157s/epoch - 125ms/step\n",
            "Epoch 12/70\n",
            "1250/1250 - 157s - loss: 0.4040 - val_loss: 0.4706 - 157s/epoch - 125ms/step\n",
            "Epoch 13/70\n",
            "1250/1250 - 156s - loss: 0.3991 - val_loss: 0.4759 - 156s/epoch - 125ms/step\n"
          ]
        },
        {
          "output_type": "display_data",
          "data": {
            "text/plain": [
              "<Figure size 432x288 with 1 Axes>"
            ],
            "image/png": "[encoded data removed]"
          },
          "metadata": {
            "needs_background": "light"
          }
        }
      ]
    },
    {
      "cell_type": "code",
      "source": [
        "from google.colab import files\n",
        "files.download(filepath) \n"
      ],
      "metadata": {
        "colab": {
          "base_uri": "https://localhost:8080/",
          "height": 17
        },
        "id": "AGQxZqAwL6Oq",
        "outputId": "a471fe72-eb2f-4778-9179-ba2351a863ed"
      },
      "execution_count": null,
      "outputs": [
        {
          "output_type": "display_data",
          "data": {
            "text/plain": [
              "<IPython.core.display.Javascript object>"
            ],
            "application/javascript": [
              "\n",
              "    async function download(id, filename, size) {\n",
              "      if (!google.colab.kernel.accessAllowed) {\n",
              "        return;\n",
              "      }\n",
              "      const div = document.createElement('div');\n",
              "      const label = document.createElement('label');\n",
              "      label.textContent = `Downloading \"${filename}\": `;\n",
              "      div.appendChild(label);\n",
              "      const progress = document.createElement('progress');\n",
              "      progress.max = size;\n",
              "      div.appendChild(progress);\n",
              "      document.body.appendChild(div);\n",
              "\n",
              "      const buffers = [];\n",
              "      let downloaded = 0;\n",
              "\n",
              "      const channel = await google.colab.kernel.comms.open(id);\n",
              "      // Send a message to notify the kernel that we're ready.\n",
              "      channel.send({})\n",
              "\n",
              "      for await (const message of channel.messages) {\n",
              "        // Send a message to notify the kernel that we're ready.\n",
              "        channel.send({})\n",
              "        if (message.buffers) {\n",
              "          for (const buffer of message.buffers) {\n",
              "            buffers.push(buffer);\n",
              "            downloaded += buffer.byteLength;\n",
              "            progress.value = downloaded;\n",
              "          }\n",
              "        }\n",
              "      }\n",
              "      const blob = new Blob(buffers, {type: 'application/binary'});\n",
              "      const a = document.createElement('a');\n",
              "      a.href = window.URL.createObjectURL(blob);\n",
              "      a.download = filename;\n",
              "      div.appendChild(a);\n",
              "      a.click();\n",
              "      div.remove();\n",
              "    }\n",
              "  "
            ]
          },
          "metadata": {}
        },
        {
          "output_type": "display_data",
          "data": {
            "text/plain": [
              "<IPython.core.display.Javascript object>"
            ],
            "application/javascript": [
              "download(\"download_19febfe1-70a3-4073-8eca-b046e436daa9\", \"best_model_convTrained_on_RC.hdf5\", 111826132)"
            ]
          },
          "metadata": {}
        }
      ]
    },
    {
      "cell_type": "code",
      "source": [
        "#MLP on RC\n",
        "dense_size=440\n",
        "coding_size=120\n",
        "def build_MLP_autoencoder(dense_size, coding_size):\n",
        "    # The encoder\n",
        "    encoder = Sequential()\n",
        "    encoder.add(InputLayer((784,)))\n",
        "    encoder.add(Dense(dense_size,activation=LeakyReLU()))\n",
        "    encoder.add(Dense(coding_size,activation=LeakyReLU()))\n",
        "\n",
        "    # The decoder\n",
        "    decoder = Sequential()\n",
        "    decoder.add(InputLayer((coding_size,)))\n",
        "    decoder.add(Dense(dense_size,activation=LeakyReLU()))\n",
        "    decoder.add(Dense(784, activation=LeakyReLU()))\n",
        "    return encoder, decoder\n",
        "\n",
        "\n",
        "encoder_mlp_rc, decoder_mlp_rc = build_MLP_autoencoder(dense_size, coding_size)\n",
        "\n",
        "inpt=Input((784,))\n",
        "code_rc = encoder_mlp_rc(inpt)\n",
        "reconstruction_rc = decoder_mlp_rc(code_rc)\n",
        "autoencoder_mlp_rc=Model(inpt,reconstruction_rc)\n",
        "autoencoder_mlp_rc.compile(optimizer='adam', loss='mse')\n",
        "print(autoencoder_mlp_rc.summary())\n",
        "plot_model(autoencoder_mlp_rc, show_shapes=True, to_file='mlp_autoencoder_RC.png',expand_nested=True)\n",
        "\n",
        "\n",
        "filepath=\"best_model_mlpTrained_on_RC.hdf5\"\n",
        "mc = ModelCheckpoint(filepath, monitor='val_loss', mode='min', save_best_only=True)\n",
        "es = EarlyStopping(monitor='val_loss',verbose=0,min_delta=0.01,patience=5)\n",
        "callbacks=[es, mc]\n",
        "\n",
        "train_new=1\n",
        "if train_new==1:\n",
        "    classify_model_trained_mlp_rc=autoencoder_mlp_rc.fit(X_train_train,output_digits_train_train,\n",
        "                                                 validation_data=(X_train_val, \n",
        "                                                 output_digits_train_val),\n",
        "                                                 epochs=70,verbose=2,callbacks=callbacks)\n",
        "    \n",
        "    best_epoch=np.argmin(classify_model_trained_mlp_rc.history['val_loss'])+1\n",
        "    epochs = len(classify_model_trained_mlp_rc.history['loss'])\n",
        "    \n",
        "    makeTrainingPlot=1\n",
        "    if makeTrainingPlot==1: #Make a plot of training progress\n",
        "        plt.plot(range(epochs),classify_model_trained_mlp_rc.history['loss'], label='train')\n",
        "        plt.plot(range(epochs),classify_model_trained_mlp_rc.history['val_loss'],label='validation')\n",
        "        plt.xlabel('Epochs')\n",
        "        plt.ylabel(\"Categorical Crossentropy\")\n",
        "        plt.title('Model Performance')\n",
        "        plt.legend()\n",
        "        plt.show()\n",
        "    autoencoder_mlp_rc.load_weights(mc.filepath)\n",
        "else:\n",
        "    autoencoder_mlp_rc.load_weights(mc.filepath)\n",
        "\n",
        "files.download(filepath) \n"
      ],
      "metadata": {
        "colab": {
          "base_uri": "https://localhost:8080/",
          "height": 1000
        },
        "id": "wx4smsTKIExz",
        "outputId": "cbff47d8-a57d-45b4-f045-0524ad8bb723"
      },
      "execution_count": null,
      "outputs": [
        {
          "output_type": "stream",
          "name": "stdout",
          "text": [
            "Model: \"model_1\"\n",
            "_________________________________________________________________\n",
            " Layer (type)                Output Shape              Param #   \n",
            "=================================================================\n",
            " input_4 (InputLayer)        [(None, 784)]             0         \n",
            "                                                                 \n",
            " sequential (Sequential)     (None, 120)               398320    \n",
            "                                                                 \n",
            " sequential_1 (Sequential)   (None, 784)               398984    \n",
            "                                                                 \n",
            "=================================================================\n",
            "Total params: 797,304\n",
            "Trainable params: 797,304\n",
            "Non-trainable params: 0\n",
            "_________________________________________________________________\n",
            "None\n",
            "Epoch 1/70\n",
            "1250/1250 - 5s - loss: 1.2045 - val_loss: 0.8730 - 5s/epoch - 4ms/step\n",
            "Epoch 2/70\n",
            "1250/1250 - 3s - loss: 0.7939 - val_loss: 0.7452 - 3s/epoch - 2ms/step\n",
            "Epoch 3/70\n",
            "1250/1250 - 3s - loss: 0.7062 - val_loss: 0.6981 - 3s/epoch - 2ms/step\n",
            "Epoch 4/70\n",
            "1250/1250 - 3s - loss: 0.6594 - val_loss: 0.6670 - 3s/epoch - 2ms/step\n",
            "Epoch 5/70\n",
            "1250/1250 - 3s - loss: 0.6286 - val_loss: 0.6477 - 3s/epoch - 2ms/step\n",
            "Epoch 6/70\n",
            "1250/1250 - 3s - loss: 0.6057 - val_loss: 0.6364 - 3s/epoch - 2ms/step\n",
            "Epoch 7/70\n",
            "1250/1250 - 3s - loss: 0.5876 - val_loss: 0.6243 - 3s/epoch - 2ms/step\n",
            "Epoch 8/70\n",
            "1250/1250 - 3s - loss: 0.5731 - val_loss: 0.6189 - 3s/epoch - 2ms/step\n",
            "Epoch 9/70\n",
            "1250/1250 - 3s - loss: 0.5611 - val_loss: 0.6151 - 3s/epoch - 2ms/step\n",
            "Epoch 10/70\n",
            "1250/1250 - 3s - loss: 0.5505 - val_loss: 0.6099 - 3s/epoch - 2ms/step\n",
            "Epoch 11/70\n",
            "1250/1250 - 3s - loss: 0.5413 - val_loss: 0.6072 - 3s/epoch - 2ms/step\n",
            "Epoch 12/70\n",
            "1250/1250 - 3s - loss: 0.5329 - val_loss: 0.6039 - 3s/epoch - 2ms/step\n",
            "Epoch 13/70\n",
            "1250/1250 - 3s - loss: 0.5254 - val_loss: 0.6037 - 3s/epoch - 2ms/step\n",
            "Epoch 14/70\n",
            "1250/1250 - 3s - loss: 0.5189 - val_loss: 0.6016 - 3s/epoch - 2ms/step\n",
            "Epoch 15/70\n",
            "1250/1250 - 3s - loss: 0.5130 - val_loss: 0.6019 - 3s/epoch - 2ms/step\n"
          ]
        },
        {
          "output_type": "display_data",
          "data": {
            "text/plain": [
              "<Figure size 432x288 with 1 Axes>"
            ],
            "image/png": "[encoded data removed]"
          },
          "metadata": {
            "needs_background": "light"
          }
        },
        {
          "output_type": "display_data",
          "data": {
            "text/plain": [
              "<IPython.core.display.Javascript object>"
            ],
            "application/javascript": [
              "\n",
              "    async function download(id, filename, size) {\n",
              "      if (!google.colab.kernel.accessAllowed) {\n",
              "        return;\n",
              "      }\n",
              "      const div = document.createElement('div');\n",
              "      const label = document.createElement('label');\n",
              "      label.textContent = `Downloading \"${filename}\": `;\n",
              "      div.appendChild(label);\n",
              "      const progress = document.createElement('progress');\n",
              "      progress.max = size;\n",
              "      div.appendChild(progress);\n",
              "      document.body.appendChild(div);\n",
              "\n",
              "      const buffers = [];\n",
              "      let downloaded = 0;\n",
              "\n",
              "      const channel = await google.colab.kernel.comms.open(id);\n",
              "      // Send a message to notify the kernel that we're ready.\n",
              "      channel.send({})\n",
              "\n",
              "      for await (const message of channel.messages) {\n",
              "        // Send a message to notify the kernel that we're ready.\n",
              "        channel.send({})\n",
              "        if (message.buffers) {\n",
              "          for (const buffer of message.buffers) {\n",
              "            buffers.push(buffer);\n",
              "            downloaded += buffer.byteLength;\n",
              "            progress.value = downloaded;\n",
              "          }\n",
              "        }\n",
              "      }\n",
              "      const blob = new Blob(buffers, {type: 'application/binary'});\n",
              "      const a = document.createElement('a');\n",
              "      a.href = window.URL.createObjectURL(blob);\n",
              "      a.download = filename;\n",
              "      div.appendChild(a);\n",
              "      a.click();\n",
              "      div.remove();\n",
              "    }\n",
              "  "
            ]
          },
          "metadata": {}
        },
        {
          "output_type": "display_data",
          "data": {
            "text/plain": [
              "<IPython.core.display.Javascript object>"
            ],
            "application/javascript": [
              "download(\"download_f8693f3b-c824-468b-91ef-7afa2e3a1770\", \"best_model_mlpTrained_on_RC.hdf5\", 9611880)"
            ]
          },
          "metadata": {}
        }
      ]
    },
    {
      "cell_type": "code",
      "source": [
        "#%% Deep MLP Trained on RC\n",
        "\n",
        "\n",
        "dense_size_outer=480\n",
        "dense_size_inner=460\n",
        "coding_size=120\n",
        "def build_deep_autoencoder(dense_size_outer, dense_size_inner, coding_size):\n",
        "    # The encoder\n",
        "    encoder = Sequential()\n",
        "    encoder.add(InputLayer((784,)))\n",
        "    encoder.add(Dense(dense_size_outer,activation=LeakyReLU()))\n",
        "    encoder.add(Dense(dense_size_inner,activation=LeakyReLU()))\n",
        "    encoder.add(Dense(coding_size,activation=LeakyReLU()))\n",
        "\n",
        "    # The decoder\n",
        "    decoder = Sequential()\n",
        "    decoder.add(InputLayer((coding_size,)))\n",
        "    decoder.add(Dense(dense_size_inner,activation=LeakyReLU()))\n",
        "    decoder.add(Dense(dense_size_outer,activation=LeakyReLU()))\n",
        "    decoder.add(Dense(784, activation=LeakyReLU()))\n",
        "    return encoder, decoder\n",
        "\n",
        "encoder_deep_mlp_rc, decoder_deep_mlp_rc = build_deep_autoencoder(dense_size_outer, dense_size_inner, coding_size)\n",
        "\n",
        "inpt=Input((784,))\n",
        "code_rc = encoder_deep_mlp_rc(inpt)\n",
        "reconstruction_rc = decoder_deep_mlp_rc(code_rc)\n",
        "autoencoder_deep_mlp_rc=Model(inpt,reconstruction_rc)\n",
        "autoencoder_deep_mlp_rc.compile(optimizer='adam', loss='mse')\n",
        "print(autoencoder_deep_mlp_rc.summary())\n",
        "plot_model(autoencoder_deep_mlp_rc, show_shapes=True, to_file='deep_mlp_autoencoder_RC.png',expand_nested=True)\n",
        "\n",
        "\n",
        "filepath=\"best_model_deep_mlpTrained_on_RC.hdf5\"\n",
        "mc = ModelCheckpoint(filepath, monitor='val_loss', mode='min', save_best_only=True)\n",
        "es = EarlyStopping(monitor='val_loss',verbose=0,min_delta=0.01,patience=5)\n",
        "callbacks=[es, mc]\n",
        "\n",
        "train_new=1\n",
        "if train_new==1:\n",
        "    classify_model_trained_deep_mlp_rc=autoencoder_deep_mlp_rc.fit(X_train_train,output_digits_train_train,\n",
        "                                                 validation_data=(X_train_val, output_digits_train_val),\n",
        "                                                 epochs=70,verbose=2,callbacks=callbacks)\n",
        "    \n",
        "    best_epoch=np.argmin(classify_model_trained_deep_mlp_rc.history['val_loss'])+1\n",
        "    epochs = len(classify_model_trained_deep_mlp_rc.history['loss'])\n",
        "    \n",
        "    makeTrainingPlot=1\n",
        "    if makeTrainingPlot==1: #Make a plot of training progress\n",
        "        plt.plot(range(epochs),classify_model_trained_deep_mlp_rc.history['loss'], label='train')\n",
        "        plt.plot(range(epochs),classify_model_trained_deep_mlp_rc.history['val_loss'],label='validation')\n",
        "        plt.xlabel('Epochs')\n",
        "        plt.ylabel(\"Categorical Crossentropy\")\n",
        "        plt.title('Model Performance')\n",
        "        plt.legend()\n",
        "        plt.show()\n",
        "    autoencoder_deep_mlp_rc.load_weights(mc.filepath)\n",
        "else:\n",
        "    autoencoder_deep_mlp_rc.load_weights(mc.filepath)\n",
        "\n",
        "files.download(filepath)"
      ],
      "metadata": {
        "colab": {
          "base_uri": "https://localhost:8080/",
          "height": 1000
        },
        "id": "4zZqWT6eMWjP",
        "outputId": "e8c574b2-8e26-436f-b843-b27c8b930a6f"
      },
      "execution_count": null,
      "outputs": [
        {
          "output_type": "stream",
          "name": "stdout",
          "text": [
            "Model: \"model_3\"\n",
            "_________________________________________________________________\n",
            " Layer (type)                Output Shape              Param #   \n",
            "=================================================================\n",
            " input_10 (InputLayer)       [(None, 784)]             0         \n",
            "                                                                 \n",
            " sequential_4 (Sequential)   (None, 120)               653380    \n",
            "                                                                 \n",
            " sequential_5 (Sequential)   (None, 784)               654044    \n",
            "                                                                 \n",
            "=================================================================\n",
            "Total params: 1,307,424\n",
            "Trainable params: 1,307,424\n",
            "Non-trainable params: 0\n",
            "_________________________________________________________________\n",
            "None\n",
            "Epoch 1/70\n",
            "1250/1250 - 4s - loss: 1.1983 - val_loss: 0.8652 - 4s/epoch - 3ms/step\n",
            "Epoch 2/70\n",
            "1250/1250 - 3s - loss: 0.7814 - val_loss: 0.7352 - 3s/epoch - 3ms/step\n",
            "Epoch 3/70\n",
            "1250/1250 - 3s - loss: 0.6858 - val_loss: 0.6858 - 3s/epoch - 3ms/step\n",
            "Epoch 4/70\n",
            "1250/1250 - 3s - loss: 0.6341 - val_loss: 0.6583 - 3s/epoch - 3ms/step\n",
            "Epoch 5/70\n",
            "1250/1250 - 4s - loss: 0.5980 - val_loss: 0.6409 - 4s/epoch - 3ms/step\n",
            "Epoch 6/70\n",
            "1250/1250 - 4s - loss: 0.5710 - val_loss: 0.6266 - 4s/epoch - 3ms/step\n",
            "Epoch 7/70\n",
            "1250/1250 - 3s - loss: 0.5494 - val_loss: 0.6167 - 3s/epoch - 3ms/step\n",
            "Epoch 8/70\n",
            "1250/1250 - 3s - loss: 0.5309 - val_loss: 0.6115 - 3s/epoch - 3ms/step\n",
            "Epoch 9/70\n",
            "1250/1250 - 3s - loss: 0.5156 - val_loss: 0.6051 - 3s/epoch - 3ms/step\n",
            "Epoch 10/70\n",
            "1250/1250 - 3s - loss: 0.5018 - val_loss: 0.6029 - 3s/epoch - 3ms/step\n",
            "Epoch 11/70\n",
            "1250/1250 - 3s - loss: 0.4895 - val_loss: 0.5976 - 3s/epoch - 3ms/step\n",
            "Epoch 12/70\n",
            "1250/1250 - 3s - loss: 0.4794 - val_loss: 0.5955 - 3s/epoch - 3ms/step\n",
            "Epoch 13/70\n",
            "1250/1250 - 4s - loss: 0.4692 - val_loss: 0.5982 - 4s/epoch - 3ms/step\n",
            "Epoch 14/70\n",
            "1250/1250 - 4s - loss: 0.4608 - val_loss: 0.6000 - 4s/epoch - 3ms/step\n",
            "Epoch 15/70\n",
            "1250/1250 - 3s - loss: 0.4528 - val_loss: 0.5966 - 3s/epoch - 3ms/step\n",
            "Epoch 16/70\n",
            "1250/1250 - 3s - loss: 0.4456 - val_loss: 0.5967 - 3s/epoch - 3ms/step\n"
          ]
        },
        {
          "output_type": "display_data",
          "data": {
            "text/plain": [
              "<Figure size 432x288 with 1 Axes>"
            ],
            "image/png": "[encoded data removed]"
          },
          "metadata": {
            "needs_background": "light"
          }
        },
        {
          "output_type": "display_data",
          "data": {
            "text/plain": [
              "<IPython.core.display.Javascript object>"
            ],
            "application/javascript": [
              "\n",
              "    async function download(id, filename, size) {\n",
              "      if (!google.colab.kernel.accessAllowed) {\n",
              "        return;\n",
              "      }\n",
              "      const div = document.createElement('div');\n",
              "      const label = document.createElement('label');\n",
              "      label.textContent = `Downloading \"${filename}\": `;\n",
              "      div.appendChild(label);\n",
              "      const progress = document.createElement('progress');\n",
              "      progress.max = size;\n",
              "      div.appendChild(progress);\n",
              "      document.body.appendChild(div);\n",
              "\n",
              "      const buffers = [];\n",
              "      let downloaded = 0;\n",
              "\n",
              "      const channel = await google.colab.kernel.comms.open(id);\n",
              "      // Send a message to notify the kernel that we're ready.\n",
              "      channel.send({})\n",
              "\n",
              "      for await (const message of channel.messages) {\n",
              "        // Send a message to notify the kernel that we're ready.\n",
              "        channel.send({})\n",
              "        if (message.buffers) {\n",
              "          for (const buffer of message.buffers) {\n",
              "            buffers.push(buffer);\n",
              "            downloaded += buffer.byteLength;\n",
              "            progress.value = downloaded;\n",
              "          }\n",
              "        }\n",
              "      }\n",
              "      const blob = new Blob(buffers, {type: 'application/binary'});\n",
              "      const a = document.createElement('a');\n",
              "      a.href = window.URL.createObjectURL(blob);\n",
              "      a.download = filename;\n",
              "      div.appendChild(a);\n",
              "      a.click();\n",
              "      div.remove();\n",
              "    }\n",
              "  "
            ]
          },
          "metadata": {}
        },
        {
          "output_type": "display_data",
          "data": {
            "text/plain": [
              "<IPython.core.display.Javascript object>"
            ],
            "application/javascript": [
              "download(\"download_932c876e-4e0e-485c-aa8e-34446ce9ade1\", \"best_model_deep_mlpTrained_on_RC.hdf5\", 15743808)"
            ]
          },
          "metadata": {}
        }
      ]
    }
  ]
}