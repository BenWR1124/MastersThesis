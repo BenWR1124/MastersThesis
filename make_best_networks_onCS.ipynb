{
  "nbformat": 4,
  "nbformat_minor": 0,
  "metadata": {
    "colab": {
      "name": "make_best_networks_onCS.ipynb",
      "provenance": []
    },
    "kernelspec": {
      "name": "python3",
      "display_name": "Python 3"
    },
    "language_info": {
      "name": "python"
    },
    "accelerator": "GPU"
  },
  "cells": [
    {
      "cell_type": "code",
      "execution_count": null,
      "metadata": {
        "colab": {
          "base_uri": "https://localhost:8080/"
        },
        "id": "uTp5K2hRzBlC",
        "outputId": "8f610690-c95b-4c2a-bb3b-0bad156afef4"
      },
      "outputs": [
        {
          "output_type": "stream",
          "name": "stdout",
          "text": [
            "Found GPU at: /device:GPU:0\n"
          ]
        }
      ],
      "source": [
        "%tensorflow_version 2.x\n",
        "import tensorflow as tf\n",
        "device_name = tf.test.gpu_device_name()\n",
        "if device_name != '/device:GPU:0':\n",
        "  raise SystemError('GPU device not found')\n",
        "print('Found GPU at: {}'.format(device_name))"
      ]
    },
    {
      "cell_type": "code",
      "source": [
        "from google.colab import drive\n",
        "drive.mount('/content/drive')"
      ],
      "metadata": {
        "colab": {
          "base_uri": "https://localhost:8080/"
        },
        "id": "5kuSLKY43VCh",
        "outputId": "f4c2e8f4-426f-4b5b-ec78-0b3f0ed2258e"
      },
      "execution_count": null,
      "outputs": [
        {
          "output_type": "stream",
          "name": "stdout",
          "text": [
            "Drive already mounted at /content/drive; to attempt to forcibly remount, call drive.mount(\"/content/drive\", force_remount=True).\n"
          ]
        }
      ]
    },
    {
      "cell_type": "code",
      "source": [
        "import numpy as np\n",
        "import scipy.io as sio\n",
        "import time\n",
        "from matplotlib import pyplot as plt\n",
        "from sklearn.model_selection import train_test_split\n",
        "from keras.models import Sequential, Model, load_model\n",
        "from keras.callbacks import EarlyStopping, ModelCheckpoint\n",
        "from keras.layers import Dense, Input, InputLayer, Flatten, Conv2D,MaxPooling2D,Conv2DTranspose,LeakyReLU\n",
        "import seaborn as sn\n",
        "from keras.utils.vis_utils import plot_model\n",
        "import math\n",
        "import pandas as pd\n",
        "import matplotlib.gridspec as gridspec\n",
        "import csv\n",
        "from scipy.io import loadmat\n",
        "from google.colab import files"
      ],
      "metadata": {
        "id": "KO8NBuhRzItE"
      },
      "execution_count": null,
      "outputs": []
    },
    {
      "cell_type": "code",
      "source": [
        "from google.colab import auth\n",
        "auth.authenticate_user()"
      ],
      "metadata": {
        "id": "3o8TzconzRMv"
      },
      "execution_count": null,
      "outputs": []
    },
    {
      "cell_type": "code",
      "source": [
        "def mean2(x):\n",
        "    y = np.sum(x) / np.size(x);\n",
        "    return y\n",
        "\n",
        "def corr2(a,b):\n",
        "    a = a - mean2(a)\n",
        "    b = b - mean2(b)\n",
        "\n",
        "    r = (a*b).sum() / math.sqrt((a*a).sum() * (b*b).sum());\n",
        "    return r"
      ],
      "metadata": {
        "id": "nKyBo_RszSTP"
      },
      "execution_count": null,
      "outputs": []
    },
    {
      "cell_type": "code",
      "source": [
        "Xtrain_digits_cs=np.transpose(sio.loadmat('/content/drive/My Drive/Colab Notebooks/Xtrain_digits_mnist_CS.mat')['Xtrain_digits'].squeeze()).reshape([60000,28*28],order='F')\n",
        "outputTrain_digits_cs=np.transpose(sio.loadmat('/content/drive/My Drive/Colab Notebooks/outputTrain_digits_mnist_CS.mat')['outputTrain_digits'].squeeze()).reshape([60000,28*28],order='F')\n",
        "y_train_labels=sio.loadmat('/content/drive/My Drive/Colab Notebooks/mnist_train_labels.mat')['YTrain'] \n",
        "train_inds_all=np.array([round(i) for i in np.linspace(0,59999,60000)])#to become indices of train/val later\n"
      ],
      "metadata": {
        "id": "12JDeIed0ArN"
      },
      "execution_count": null,
      "outputs": []
    },
    {
      "cell_type": "code",
      "source": [
        "X_train_cs, X_val_cs, output_digits_train_cs, output_digits_val_cs, train_inds_train_cs, train_inds_val_cs= train_test_split(Xtrain_digits_cs, \n",
        "                                                    outputTrain_digits_cs,train_inds_all,\n",
        "                                                    stratify=y_train_labels, \n",
        "                                                    test_size=0.1666666, random_state=42)\n",
        "\n",
        "X_train_train_cs, X_train_val_cs, output_digits_train_train_cs, output_digits_train_val_cs=train_test_split(X_train_cs,output_digits_train_cs,\n",
        "                                                              stratify=y_train_labels[train_inds_train_cs],\n",
        "                                                              test_size=0.2, random_state=10)"
      ],
      "metadata": {
        "id": "JKRRQZzk1eJD"
      },
      "execution_count": null,
      "outputs": []
    },
    {
      "cell_type": "code",
      "source": [
        "#Convolutional Autoencoder\n",
        "\n",
        "# Train the Autoencoder\n",
        "coding_size=60\n",
        "filter_size=11\n",
        "kernel_size=101\n",
        "pool_size=2\n",
        "convpad='same'\n",
        "poolpad='same'\n",
        "\n",
        "def build_conv_autoencoder(filter_size, kernel_size, pool_size, coding_size,convpad,poolpad):\n",
        "    # # The encoder\n",
        "    encoder = Sequential(name=\"Encoder\")\n",
        "    # encoder.add(InputLayer((784,)))\n",
        "    encoder.add(Conv2D(filter_size, kernel_size, activation=LeakyReLU(), padding=convpad))\n",
        "    encoder.add(MaxPooling2D(pool_size, padding=poolpad))\n",
        "    encoder.add(Conv2D(filter_size, kernel_size, activation=LeakyReLU(), padding=convpad))\n",
        "    encoder.add(MaxPooling2D(pool_size, padding=poolpad))\n",
        "    # encoder.add(Dense(dense_size,activation='relu'))\n",
        "    encoder.add(Dense(coding_size,activation=LeakyReLU()))\n",
        "\n",
        "    # # The decoder\n",
        "    decoder = Sequential(name=\"Decoder\")\n",
        "    # decoder.add(InputLayer((coding_size,)))#\n",
        "    decoder.add(Conv2DTranspose(filter_size, kernel_size, strides=2, activation=LeakyReLU(), padding=convpad))\n",
        "    decoder.add(Conv2DTranspose(filter_size, kernel_size, strides=2, activation=LeakyReLU(), padding=convpad))\n",
        "    decoder.add(Conv2D(1, (1,1), activation=LeakyReLU(), padding='same'))\n",
        "\n",
        "    return encoder, decoder    \n",
        "\n",
        "\n",
        "\n",
        "encoder, decoder = build_conv_autoencoder(filter_size, kernel_size, pool_size, coding_size,convpad,poolpad)\n",
        "\n",
        "inpt=Input(shape=(28,28,1))\n",
        "code = encoder(inpt)\n",
        "reconstruction = decoder(code)\n",
        "autoencoder_cs=Model(inpt,reconstruction)\n",
        "autoencoder_cs.compile(optimizer='adam', loss='mse')\n",
        "print(autoencoder_cs.summary())\n",
        "\n",
        "filepath=\"best_model_convTrained_on_CS.hdf5\"\n",
        "mc = ModelCheckpoint(filepath, monitor='val_loss', mode='min', save_best_only=True)\n",
        "es = EarlyStopping(monitor='val_loss',verbose=0,min_delta=0.01,patience=5)\n",
        "callbacks=[es, mc]\n",
        "\n",
        "train_new=1\n",
        "if train_new==1:\n",
        "    classify_model_trained_cs=autoencoder_cs.fit(X_train_train_cs.reshape([len(X_train_train_cs),28,28,1]),output_digits_train_train_cs.reshape([len(X_train_train_cs),28,28,1]),\n",
        "                                                 validation_data=(X_train_val_cs.reshape([len(X_train_val_cs),28,28,1]), \n",
        "                                                 output_digits_train_val_cs.reshape([len(X_train_val_cs),28,28,1])),\n",
        "                                                 epochs=70,verbose=2,callbacks=callbacks)\n",
        "    \n",
        "    best_epoch=np.argmin(classify_model_trained_cs.history['val_loss'])+1\n",
        "    epochs = len(classify_model_trained_cs.history['loss'])\n",
        "    \n",
        "    makeTrainingPlot=1\n",
        "    if makeTrainingPlot==1: #Make a plot of training progress\n",
        "        plt.plot(range(epochs),classify_model_trained_cs.history['loss'], label='train')\n",
        "        plt.plot(range(epochs),classify_model_trained_cs.history['val_loss'],label='validation')\n",
        "        plt.xlabel('Epochs')\n",
        "        plt.ylabel(\"Categorical Crossentropy\")\n",
        "        plt.title('Model Performance')\n",
        "        plt.legend()\n",
        "        plt.show()\n",
        "    autoencoder_cs.load_weights(mc.filepath)\n",
        "else:\n",
        "    autoencoder_cs.load_weights(mc.filepath)\n",
        "\n",
        "files.download(filepath)"
      ],
      "metadata": {
        "colab": {
          "base_uri": "https://localhost:8080/",
          "height": 781
        },
        "id": "DyZzl7642sxz",
        "outputId": "971f305f-9464-45ba-be87-b9eab6064b48"
      },
      "execution_count": null,
      "outputs": [
        {
          "output_type": "stream",
          "name": "stdout",
          "text": [
            "Model: \"model\"\n",
            "_________________________________________________________________\n",
            " Layer (type)                Output Shape              Param #   \n",
            "=================================================================\n",
            " input_2 (InputLayer)        [(None, 28, 28, 1)]       0         \n",
            "                                                                 \n",
            " Encoder (Sequential)        (None, 7, 7, 60)          1347274   \n",
            "                                                                 \n",
            " Decoder (Sequential)        (None, 28, 28, 1)         7967015   \n",
            "                                                                 \n",
            "=================================================================\n",
            "Total params: 9,314,289\n",
            "Trainable params: 9,314,289\n",
            "Non-trainable params: 0\n",
            "_________________________________________________________________\n",
            "None\n",
            "Epoch 1/70\n",
            "1250/1250 - 167s - loss: 2.2944e-04 - val_loss: 1.6259e-04 - 167s/epoch - 133ms/step\n",
            "Epoch 2/70\n",
            "1250/1250 - 158s - loss: 1.5400e-04 - val_loss: 1.5244e-04 - 158s/epoch - 126ms/step\n",
            "Epoch 3/70\n",
            "1250/1250 - 157s - loss: 1.4308e-04 - val_loss: 1.4762e-04 - 157s/epoch - 126ms/step\n",
            "Epoch 4/70\n",
            "1250/1250 - 157s - loss: 1.3627e-04 - val_loss: 1.4567e-04 - 157s/epoch - 126ms/step\n",
            "Epoch 5/70\n",
            "1250/1250 - 157s - loss: 1.3113e-04 - val_loss: 1.4393e-04 - 157s/epoch - 126ms/step\n",
            "Epoch 6/70\n",
            "1250/1250 - 157s - loss: 1.2698e-04 - val_loss: 1.4368e-04 - 157s/epoch - 126ms/step\n"
          ]
        },
        {
          "output_type": "display_data",
          "data": {
            "text/plain": [
              "<Figure size 432x288 with 1 Axes>"
            ],
            "image/png": "[encoded data removed]"
          },
          "metadata": {
            "needs_background": "light"
          }
        },
        {
          "output_type": "display_data",
          "data": {
            "text/plain": [
              "<IPython.core.display.Javascript object>"
            ],
            "application/javascript": [
              "\n",
              "    async function download(id, filename, size) {\n",
              "      if (!google.colab.kernel.accessAllowed) {\n",
              "        return;\n",
              "      }\n",
              "      const div = document.createElement('div');\n",
              "      const label = document.createElement('label');\n",
              "      label.textContent = `Downloading \"${filename}\": `;\n",
              "      div.appendChild(label);\n",
              "      const progress = document.createElement('progress');\n",
              "      progress.max = size;\n",
              "      div.appendChild(progress);\n",
              "      document.body.appendChild(div);\n",
              "\n",
              "      const buffers = [];\n",
              "      let downloaded = 0;\n",
              "\n",
              "      const channel = await google.colab.kernel.comms.open(id);\n",
              "      // Send a message to notify the kernel that we're ready.\n",
              "      channel.send({})\n",
              "\n",
              "      for await (const message of channel.messages) {\n",
              "        // Send a message to notify the kernel that we're ready.\n",
              "        channel.send({})\n",
              "        if (message.buffers) {\n",
              "          for (const buffer of message.buffers) {\n",
              "            buffers.push(buffer);\n",
              "            downloaded += buffer.byteLength;\n",
              "            progress.value = downloaded;\n",
              "          }\n",
              "        }\n",
              "      }\n",
              "      const blob = new Blob(buffers, {type: 'application/binary'});\n",
              "      const a = document.createElement('a');\n",
              "      a.href = window.URL.createObjectURL(blob);\n",
              "      a.download = filename;\n",
              "      div.appendChild(a);\n",
              "      a.click();\n",
              "      div.remove();\n",
              "    }\n",
              "  "
            ]
          },
          "metadata": {}
        },
        {
          "output_type": "display_data",
          "data": {
            "text/plain": [
              "<IPython.core.display.Javascript object>"
            ],
            "application/javascript": [
              "download(\"download_63f64ae4-0025-40e3-86b5-299f1ef7c786\", \"best_model_convTrained_on_CS.hdf5\", 111826132)"
            ]
          },
          "metadata": {}
        }
      ]
    },
    {
      "cell_type": "code",
      "source": [
        "#MLP on CS\n",
        "dense_size=440\n",
        "coding_size=120\n",
        "def build_MLP_autoencoder(dense_size, coding_size):\n",
        "    # The encoder\n",
        "    encoder = Sequential()\n",
        "    encoder.add(InputLayer((784,)))\n",
        "    encoder.add(Dense(dense_size,activation=LeakyReLU()))\n",
        "    encoder.add(Dense(coding_size,activation=LeakyReLU()))\n",
        "\n",
        "    # The decoder\n",
        "    decoder = Sequential()\n",
        "    decoder.add(InputLayer((coding_size,)))\n",
        "    decoder.add(Dense(dense_size,activation=LeakyReLU()))\n",
        "    decoder.add(Dense(784, activation=LeakyReLU()))\n",
        "    return encoder, decoder\n",
        "\n",
        "\n",
        "encoder_mlp_cs, decoder_mlp_cs = build_MLP_autoencoder(dense_size, coding_size)\n",
        "\n",
        "inpt=Input((784,))\n",
        "code_cs = encoder_mlp_cs(inpt)\n",
        "reconstruction_cs = decoder_mlp_cs(code_cs)\n",
        "autoencoder_mlp_cs=Model(inpt,reconstruction_cs)\n",
        "autoencoder_mlp_cs.compile(optimizer='adam', loss='mse')\n",
        "print(autoencoder_mlp_cs.summary())\n",
        "plot_model(autoencoder_mlp_cs, show_shapes=True, to_file='mlp_autoencoder_CS.png',expand_nested=True)\n",
        "\n",
        "\n",
        "filepath=\"best_model_mlpTrained_on_CS.hdf5\"\n",
        "mc = ModelCheckpoint(filepath, monitor='val_loss', mode='min', save_best_only=True)\n",
        "es = EarlyStopping(monitor='val_loss',verbose=0,min_delta=0.01,patience=5)\n",
        "callbacks=[es, mc]\n",
        "\n",
        "train_new=1\n",
        "if train_new==1:\n",
        "    classify_model_trained_mlp_cs=autoencoder_mlp_cs.fit(X_train_train_cs,output_digits_train_train_cs,\n",
        "                                                 validation_data=(X_train_val_cs, \n",
        "                                                 output_digits_train_val_cs),\n",
        "                                                 epochs=70,verbose=2,callbacks=callbacks)\n",
        "    \n",
        "    best_epoch=np.argmin(classify_model_trained_mlp_cs.history['val_loss'])+1\n",
        "    epochs = len(classify_model_trained_mlp_cs.history['loss'])\n",
        "    \n",
        "    makeTrainingPlot=1\n",
        "    if makeTrainingPlot==1: #Make a plot of training progress\n",
        "        plt.plot(range(epochs),classify_model_trained_mlp_cs.history['loss'], label='train')\n",
        "        plt.plot(range(epochs),classify_model_trained_mlp_cs.history['val_loss'],label='validation')\n",
        "        plt.xlabel('Epochs')\n",
        "        plt.ylabel(\"Categorical Crossentropy\")\n",
        "        plt.title('Model Performance')\n",
        "        plt.legend()\n",
        "        plt.show()\n",
        "    autoencoder_mlp_cs.load_weights(mc.filepath)\n",
        "else:\n",
        "    autoencoder_mlp_cs.load_weights(mc.filepath)\n",
        "\n",
        "files.download(filepath) "
      ],
      "metadata": {
        "colab": {
          "base_uri": "https://localhost:8080/",
          "height": 781
        },
        "id": "t8sNdrKC_0HF",
        "outputId": "61acdf89-6c98-4b70-abb6-313f71527954"
      },
      "execution_count": null,
      "outputs": [
        {
          "output_type": "stream",
          "name": "stdout",
          "text": [
            "Model: \"model_1\"\n",
            "_________________________________________________________________\n",
            " Layer (type)                Output Shape              Param #   \n",
            "=================================================================\n",
            " input_5 (InputLayer)        [(None, 784)]             0         \n",
            "                                                                 \n",
            " sequential (Sequential)     (None, 120)               398320    \n",
            "                                                                 \n",
            " sequential_1 (Sequential)   (None, 784)               398984    \n",
            "                                                                 \n",
            "=================================================================\n",
            "Total params: 797,304\n",
            "Trainable params: 797,304\n",
            "Non-trainable params: 0\n",
            "_________________________________________________________________\n",
            "None\n",
            "Epoch 1/70\n",
            "1250/1250 - 3s - loss: 2.5954e-04 - val_loss: 2.0251e-04 - 3s/epoch - 3ms/step\n",
            "Epoch 2/70\n",
            "1250/1250 - 3s - loss: 1.8652e-04 - val_loss: 1.8478e-04 - 3s/epoch - 2ms/step\n",
            "Epoch 3/70\n",
            "1250/1250 - 3s - loss: 1.7046e-04 - val_loss: 1.8079e-04 - 3s/epoch - 2ms/step\n",
            "Epoch 4/70\n",
            "1250/1250 - 3s - loss: 1.6121e-04 - val_loss: 1.7465e-04 - 3s/epoch - 2ms/step\n",
            "Epoch 5/70\n",
            "1250/1250 - 3s - loss: 1.5463e-04 - val_loss: 1.7227e-04 - 3s/epoch - 2ms/step\n",
            "Epoch 6/70\n",
            "1250/1250 - 3s - loss: 1.4948e-04 - val_loss: 1.7072e-04 - 3s/epoch - 2ms/step\n"
          ]
        },
        {
          "output_type": "display_data",
          "data": {
            "text/plain": [
              "<Figure size 432x288 with 1 Axes>"
            ],
            "image/png": "[encoded data removed]"
          },
          "metadata": {
            "needs_background": "light"
          }
        },
        {
          "output_type": "display_data",
          "data": {
            "text/plain": [
              "<IPython.core.display.Javascript object>"
            ],
            "application/javascript": [
              "\n",
              "    async function download(id, filename, size) {\n",
              "      if (!google.colab.kernel.accessAllowed) {\n",
              "        return;\n",
              "      }\n",
              "      const div = document.createElement('div');\n",
              "      const label = document.createElement('label');\n",
              "      label.textContent = `Downloading \"${filename}\": `;\n",
              "      div.appendChild(label);\n",
              "      const progress = document.createElement('progress');\n",
              "      progress.max = size;\n",
              "      div.appendChild(progress);\n",
              "      document.body.appendChild(div);\n",
              "\n",
              "      const buffers = [];\n",
              "      let downloaded = 0;\n",
              "\n",
              "      const channel = await google.colab.kernel.comms.open(id);\n",
              "      // Send a message to notify the kernel that we're ready.\n",
              "      channel.send({})\n",
              "\n",
              "      for await (const message of channel.messages) {\n",
              "        // Send a message to notify the kernel that we're ready.\n",
              "        channel.send({})\n",
              "        if (message.buffers) {\n",
              "          for (const buffer of message.buffers) {\n",
              "            buffers.push(buffer);\n",
              "            downloaded += buffer.byteLength;\n",
              "            progress.value = downloaded;\n",
              "          }\n",
              "        }\n",
              "      }\n",
              "      const blob = new Blob(buffers, {type: 'application/binary'});\n",
              "      const a = document.createElement('a');\n",
              "      a.href = window.URL.createObjectURL(blob);\n",
              "      a.download = filename;\n",
              "      div.appendChild(a);\n",
              "      a.click();\n",
              "      div.remove();\n",
              "    }\n",
              "  "
            ]
          },
          "metadata": {}
        },
        {
          "output_type": "display_data",
          "data": {
            "text/plain": [
              "<IPython.core.display.Javascript object>"
            ],
            "application/javascript": [
              "download(\"download_45434acc-cb0a-46ea-81e7-131bdd0a6b80\", \"best_model_mlpTrained_on_CS.hdf5\", 9611880)"
            ]
          },
          "metadata": {}
        }
      ]
    },
    {
      "cell_type": "code",
      "source": [
        "#%% Deep MLP Trained on CS\n",
        "\n",
        "dense_size_outer=480\n",
        "dense_size_inner=460\n",
        "coding_size=120\n",
        "def build_deep_autoencoder(dense_size_outer, dense_size_inner, coding_size):\n",
        "    # The encoder\n",
        "    encoder = Sequential()\n",
        "    encoder.add(InputLayer((784,)))\n",
        "    encoder.add(Dense(dense_size_outer,activation=LeakyReLU()))\n",
        "    encoder.add(Dense(dense_size_inner,activation=LeakyReLU()))\n",
        "    encoder.add(Dense(coding_size,activation=LeakyReLU()))\n",
        "\n",
        "    # The decoder\n",
        "    decoder = Sequential()\n",
        "    decoder.add(InputLayer((coding_size,)))\n",
        "    decoder.add(Dense(dense_size_inner,activation=LeakyReLU()))\n",
        "    decoder.add(Dense(dense_size_outer,activation=LeakyReLU()))\n",
        "    decoder.add(Dense(784, activation=LeakyReLU()))\n",
        "    return encoder, decoder\n",
        "\n",
        "\n",
        "encoder_deep_mlp_cs, decoder_deep_mlp_cs = build_deep_autoencoder(dense_size_outer, dense_size_inner, coding_size)\n",
        "\n",
        "inpt=Input((784,))\n",
        "code_cs = encoder_deep_mlp_cs(inpt)\n",
        "reconstruction_cs = decoder_deep_mlp_cs(code_cs)\n",
        "autoencoder_deep_mlp_cs=Model(inpt,reconstruction_cs)\n",
        "autoencoder_deep_mlp_cs.compile(optimizer='adam', loss='mse')\n",
        "print(autoencoder_deep_mlp_cs.summary())\n",
        "plot_model(autoencoder_deep_mlp_cs, show_shapes=True, to_file='deep_mlp_autoencoder_CS.png',expand_nested=True)\n",
        "\n",
        "\n",
        "filepath=\"best_model_deep_mlpTrained_on_CS.hdf5\"\n",
        "mc = ModelCheckpoint(filepath, monitor='val_loss', mode='min', save_best_only=True)\n",
        "es = EarlyStopping(monitor='val_loss',verbose=0,min_delta=0.01,patience=5)\n",
        "callbacks=[es, mc]\n",
        "\n",
        "train_new=1\n",
        "if train_new==1:\n",
        "    classify_model_trained_deep_mlp_cs=autoencoder_deep_mlp_cs.fit(X_train_train_cs,output_digits_train_train_cs,\n",
        "                                                 validation_data=(X_train_val_cs, \n",
        "                                                 output_digits_train_val_cs),\n",
        "                                                 epochs=70,verbose=2,callbacks=callbacks)\n",
        "    \n",
        "    best_epoch=np.argmin(classify_model_trained_deep_mlp_cs.history['val_loss'])+1\n",
        "    epochs = len(classify_model_trained_deep_mlp_cs.history['loss'])\n",
        "    \n",
        "    makeTrainingPlot=1\n",
        "    if makeTrainingPlot==1: #Make a plot of training progress\n",
        "        plt.plot(range(epochs),classify_model_trained_deep_mlp_cs.history['loss'], label='train')\n",
        "        plt.plot(range(epochs),classify_model_trained_deep_mlp_cs.history['val_loss'],label='validation')\n",
        "        plt.xlabel('Epochs')\n",
        "        plt.ylabel(\"Categorical Crossentropy\")\n",
        "        plt.title('Model Performance')\n",
        "        plt.legend()\n",
        "        plt.show()\n",
        "    autoencoder_deep_mlp_cs.load_weights(mc.filepath)\n",
        "else:\n",
        "    autoencoder_deep_mlp_cs.load_weights(mc.filepath)\n",
        "\n",
        "files.download(filepath)"
      ],
      "metadata": {
        "colab": {
          "base_uri": "https://localhost:8080/",
          "height": 798
        },
        "id": "exWygFWl_ziT",
        "outputId": "49adff7b-79e9-47ae-f861-a092320a07e0"
      },
      "execution_count": null,
      "outputs": [
        {
          "output_type": "stream",
          "name": "stdout",
          "text": [
            "Model: \"model_2\"\n",
            "_________________________________________________________________\n",
            " Layer (type)                Output Shape              Param #   \n",
            "=================================================================\n",
            " input_8 (InputLayer)        [(None, 784)]             0         \n",
            "                                                                 \n",
            " sequential_2 (Sequential)   (None, 120)               653380    \n",
            "                                                                 \n",
            " sequential_3 (Sequential)   (None, 784)               654044    \n",
            "                                                                 \n",
            "=================================================================\n",
            "Total params: 1,307,424\n",
            "Trainable params: 1,307,424\n",
            "Non-trainable params: 0\n",
            "_________________________________________________________________\n",
            "None\n",
            "Epoch 1/70\n",
            "1250/1250 - 4s - loss: 2.6339e-04 - val_loss: 2.0206e-04 - 4s/epoch - 3ms/step\n",
            "Epoch 2/70\n",
            "1250/1250 - 3s - loss: 1.8649e-04 - val_loss: 1.8921e-04 - 3s/epoch - 3ms/step\n",
            "Epoch 3/70\n",
            "1250/1250 - 3s - loss: 1.6866e-04 - val_loss: 1.8171e-04 - 3s/epoch - 3ms/step\n",
            "Epoch 4/70\n",
            "1250/1250 - 4s - loss: 1.5800e-04 - val_loss: 1.7701e-04 - 4s/epoch - 3ms/step\n",
            "Epoch 5/70\n",
            "1250/1250 - 3s - loss: 1.4996e-04 - val_loss: 1.7356e-04 - 3s/epoch - 3ms/step\n",
            "Epoch 6/70\n",
            "1250/1250 - 3s - loss: 1.4361e-04 - val_loss: 1.7139e-04 - 3s/epoch - 3ms/step\n"
          ]
        },
        {
          "output_type": "display_data",
          "data": {
            "text/plain": [
              "<Figure size 432x288 with 1 Axes>"
            ],
            "image/png": "[encoded data removed]"
          },
          "metadata": {
            "needs_background": "light"
          }
        },
        {
          "output_type": "display_data",
          "data": {
            "text/plain": [
              "<IPython.core.display.Javascript object>"
            ],
            "application/javascript": [
              "\n",
              "    async function download(id, filename, size) {\n",
              "      if (!google.colab.kernel.accessAllowed) {\n",
              "        return;\n",
              "      }\n",
              "      const div = document.createElement('div');\n",
              "      const label = document.createElement('label');\n",
              "      label.textContent = `Downloading \"${filename}\": `;\n",
              "      div.appendChild(label);\n",
              "      const progress = document.createElement('progress');\n",
              "      progress.max = size;\n",
              "      div.appendChild(progress);\n",
              "      document.body.appendChild(div);\n",
              "\n",
              "      const buffers = [];\n",
              "      let downloaded = 0;\n",
              "\n",
              "      const channel = await google.colab.kernel.comms.open(id);\n",
              "      // Send a message to notify the kernel that we're ready.\n",
              "      channel.send({})\n",
              "\n",
              "      for await (const message of channel.messages) {\n",
              "        // Send a message to notify the kernel that we're ready.\n",
              "        channel.send({})\n",
              "        if (message.buffers) {\n",
              "          for (const buffer of message.buffers) {\n",
              "            buffers.push(buffer);\n",
              "            downloaded += buffer.byteLength;\n",
              "            progress.value = downloaded;\n",
              "          }\n",
              "        }\n",
              "      }\n",
              "      const blob = new Blob(buffers, {type: 'application/binary'});\n",
              "      const a = document.createElement('a');\n",
              "      a.href = window.URL.createObjectURL(blob);\n",
              "      a.download = filename;\n",
              "      div.appendChild(a);\n",
              "      a.click();\n",
              "      div.remove();\n",
              "    }\n",
              "  "
            ]
          },
          "metadata": {}
        },
        {
          "output_type": "display_data",
          "data": {
            "text/plain": [
              "<IPython.core.display.Javascript object>"
            ],
            "application/javascript": [
              "download(\"download_2bacd5fd-e82a-416a-89c1-852d6e9a7c59\", \"best_model_deep_mlpTrained_on_CS.hdf5\", 15743576)"
            ]
          },
          "metadata": {}
        }
      ]
    }
  ]
}